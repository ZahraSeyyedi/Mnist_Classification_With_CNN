{
  "nbformat": 4,
  "nbformat_minor": 0,
  "metadata": {
    "colab": {
      "provenance": []
    },
    "kernelspec": {
      "name": "python3",
      "display_name": "Python 3"
    },
    "language_info": {
      "name": "python"
    },
    "gpuClass": "standard",
    "accelerator": "GPU"
  },
  "cells": [
    {
      "cell_type": "code",
      "execution_count": null,
      "metadata": {
        "id": "IpF9AWZUYcZe",
        "colab": {
          "base_uri": "https://localhost:8080/"
        },
        "outputId": "6e8a1fcb-7970-4673-e193-8f789b8b5f90"
      },
      "outputs": [
        {
          "output_type": "stream",
          "name": "stdout",
          "text": [
            "Downloading...\n",
            "From: https://drive.google.com/uc?id=1I8j_kfwk987-Rnhu05geMYXBtQPw1Uob\n",
            "To: /content/Kaggle digits train.csv\n",
            "100% 76.8M/76.8M [00:00<00:00, 215MB/s]\n"
          ]
        }
      ],
      "source": [
        "! gdown 1I8j_kfwk987-Rnhu05geMYXBtQPw1Uob\n"
      ]
    },
    {
      "cell_type": "code",
      "source": [
        "! gdown 1-hoSUApfWdS3R-iA2e2T1OdRfSvnSLjR"
      ],
      "metadata": {
        "id": "SY8gcuRKcBr0",
        "colab": {
          "base_uri": "https://localhost:8080/"
        },
        "outputId": "78804b74-f66b-44a6-ec54-7166e3873a6c"
      },
      "execution_count": null,
      "outputs": [
        {
          "output_type": "stream",
          "name": "stdout",
          "text": [
            "Downloading...\n",
            "From: https://drive.google.com/uc?id=1-hoSUApfWdS3R-iA2e2T1OdRfSvnSLjR\n",
            "To: /content/Kaggle digits test.csv\n",
            "100% 51.1M/51.1M [00:00<00:00, 234MB/s]\n"
          ]
        }
      ]
    },
    {
      "cell_type": "code",
      "source": [
        "import matplotlib.pyplot as plt\n",
        "\n",
        "import numpy as np\n",
        "import pandas as pd\n",
        "\n",
        "from sklearn.preprocessing import MinMaxScaler\n",
        "from tensorflow.keras.layers import Input, Dense, Conv2D, Dropout, MaxPooling2D,AveragePooling2D ,Flatten"
      ],
      "metadata": {
        "id": "8M5zsV_QcEfn"
      },
      "execution_count": null,
      "outputs": []
    },
    {
      "cell_type": "code",
      "source": [
        "train=pd.read_csv('/content/Kaggle digits train.csv')\n",
        "test=pd.read_csv('/content/Kaggle digits test.csv')\n",
        "train.shape"
      ],
      "metadata": {
        "colab": {
          "base_uri": "https://localhost:8080/"
        },
        "id": "h07GKiAJcrGT",
        "outputId": "e03de897-11a0-4505-a854-aa0aa96f64b0"
      },
      "execution_count": null,
      "outputs": [
        {
          "output_type": "execute_result",
          "data": {
            "text/plain": [
              "(42000, 785)"
            ]
          },
          "metadata": {},
          "execution_count": 4
        }
      ]
    },
    {
      "cell_type": "code",
      "source": [
        "\n",
        "train.head()"
      ],
      "metadata": {
        "colab": {
          "base_uri": "https://localhost:8080/",
          "height": 299
        },
        "id": "gMgpGitQc4hX",
        "outputId": "df828b25-3d47-4d68-e926-9ef81400958c"
      },
      "execution_count": null,
      "outputs": [
        {
          "output_type": "execute_result",
          "data": {
            "text/plain": [
              "   label  pixel0  pixel1  pixel2  pixel3  pixel4  pixel5  pixel6  pixel7  \\\n",
              "0      1       0       0       0       0       0       0       0       0   \n",
              "1      0       0       0       0       0       0       0       0       0   \n",
              "2      1       0       0       0       0       0       0       0       0   \n",
              "3      4       0       0       0       0       0       0       0       0   \n",
              "4      0       0       0       0       0       0       0       0       0   \n",
              "\n",
              "   pixel8  ...  pixel774  pixel775  pixel776  pixel777  pixel778  pixel779  \\\n",
              "0       0  ...         0         0         0         0         0         0   \n",
              "1       0  ...         0         0         0         0         0         0   \n",
              "2       0  ...         0         0         0         0         0         0   \n",
              "3       0  ...         0         0         0         0         0         0   \n",
              "4       0  ...         0         0         0         0         0         0   \n",
              "\n",
              "   pixel780  pixel781  pixel782  pixel783  \n",
              "0         0         0         0         0  \n",
              "1         0         0         0         0  \n",
              "2         0         0         0         0  \n",
              "3         0         0         0         0  \n",
              "4         0         0         0         0  \n",
              "\n",
              "[5 rows x 785 columns]"
            ],
            "text/html": [
              "\n",
              "  <div id=\"df-755b216f-b290-421a-a879-49dd9d93eb0d\">\n",
              "    <div class=\"colab-df-container\">\n",
              "      <div>\n",
              "<style scoped>\n",
              "    .dataframe tbody tr th:only-of-type {\n",
              "        vertical-align: middle;\n",
              "    }\n",
              "\n",
              "    .dataframe tbody tr th {\n",
              "        vertical-align: top;\n",
              "    }\n",
              "\n",
              "    .dataframe thead th {\n",
              "        text-align: right;\n",
              "    }\n",
              "</style>\n",
              "<table border=\"1\" class=\"dataframe\">\n",
              "  <thead>\n",
              "    <tr style=\"text-align: right;\">\n",
              "      <th></th>\n",
              "      <th>label</th>\n",
              "      <th>pixel0</th>\n",
              "      <th>pixel1</th>\n",
              "      <th>pixel2</th>\n",
              "      <th>pixel3</th>\n",
              "      <th>pixel4</th>\n",
              "      <th>pixel5</th>\n",
              "      <th>pixel6</th>\n",
              "      <th>pixel7</th>\n",
              "      <th>pixel8</th>\n",
              "      <th>...</th>\n",
              "      <th>pixel774</th>\n",
              "      <th>pixel775</th>\n",
              "      <th>pixel776</th>\n",
              "      <th>pixel777</th>\n",
              "      <th>pixel778</th>\n",
              "      <th>pixel779</th>\n",
              "      <th>pixel780</th>\n",
              "      <th>pixel781</th>\n",
              "      <th>pixel782</th>\n",
              "      <th>pixel783</th>\n",
              "    </tr>\n",
              "  </thead>\n",
              "  <tbody>\n",
              "    <tr>\n",
              "      <th>0</th>\n",
              "      <td>1</td>\n",
              "      <td>0</td>\n",
              "      <td>0</td>\n",
              "      <td>0</td>\n",
              "      <td>0</td>\n",
              "      <td>0</td>\n",
              "      <td>0</td>\n",
              "      <td>0</td>\n",
              "      <td>0</td>\n",
              "      <td>0</td>\n",
              "      <td>...</td>\n",
              "      <td>0</td>\n",
              "      <td>0</td>\n",
              "      <td>0</td>\n",
              "      <td>0</td>\n",
              "      <td>0</td>\n",
              "      <td>0</td>\n",
              "      <td>0</td>\n",
              "      <td>0</td>\n",
              "      <td>0</td>\n",
              "      <td>0</td>\n",
              "    </tr>\n",
              "    <tr>\n",
              "      <th>1</th>\n",
              "      <td>0</td>\n",
              "      <td>0</td>\n",
              "      <td>0</td>\n",
              "      <td>0</td>\n",
              "      <td>0</td>\n",
              "      <td>0</td>\n",
              "      <td>0</td>\n",
              "      <td>0</td>\n",
              "      <td>0</td>\n",
              "      <td>0</td>\n",
              "      <td>...</td>\n",
              "      <td>0</td>\n",
              "      <td>0</td>\n",
              "      <td>0</td>\n",
              "      <td>0</td>\n",
              "      <td>0</td>\n",
              "      <td>0</td>\n",
              "      <td>0</td>\n",
              "      <td>0</td>\n",
              "      <td>0</td>\n",
              "      <td>0</td>\n",
              "    </tr>\n",
              "    <tr>\n",
              "      <th>2</th>\n",
              "      <td>1</td>\n",
              "      <td>0</td>\n",
              "      <td>0</td>\n",
              "      <td>0</td>\n",
              "      <td>0</td>\n",
              "      <td>0</td>\n",
              "      <td>0</td>\n",
              "      <td>0</td>\n",
              "      <td>0</td>\n",
              "      <td>0</td>\n",
              "      <td>...</td>\n",
              "      <td>0</td>\n",
              "      <td>0</td>\n",
              "      <td>0</td>\n",
              "      <td>0</td>\n",
              "      <td>0</td>\n",
              "      <td>0</td>\n",
              "      <td>0</td>\n",
              "      <td>0</td>\n",
              "      <td>0</td>\n",
              "      <td>0</td>\n",
              "    </tr>\n",
              "    <tr>\n",
              "      <th>3</th>\n",
              "      <td>4</td>\n",
              "      <td>0</td>\n",
              "      <td>0</td>\n",
              "      <td>0</td>\n",
              "      <td>0</td>\n",
              "      <td>0</td>\n",
              "      <td>0</td>\n",
              "      <td>0</td>\n",
              "      <td>0</td>\n",
              "      <td>0</td>\n",
              "      <td>...</td>\n",
              "      <td>0</td>\n",
              "      <td>0</td>\n",
              "      <td>0</td>\n",
              "      <td>0</td>\n",
              "      <td>0</td>\n",
              "      <td>0</td>\n",
              "      <td>0</td>\n",
              "      <td>0</td>\n",
              "      <td>0</td>\n",
              "      <td>0</td>\n",
              "    </tr>\n",
              "    <tr>\n",
              "      <th>4</th>\n",
              "      <td>0</td>\n",
              "      <td>0</td>\n",
              "      <td>0</td>\n",
              "      <td>0</td>\n",
              "      <td>0</td>\n",
              "      <td>0</td>\n",
              "      <td>0</td>\n",
              "      <td>0</td>\n",
              "      <td>0</td>\n",
              "      <td>0</td>\n",
              "      <td>...</td>\n",
              "      <td>0</td>\n",
              "      <td>0</td>\n",
              "      <td>0</td>\n",
              "      <td>0</td>\n",
              "      <td>0</td>\n",
              "      <td>0</td>\n",
              "      <td>0</td>\n",
              "      <td>0</td>\n",
              "      <td>0</td>\n",
              "      <td>0</td>\n",
              "    </tr>\n",
              "  </tbody>\n",
              "</table>\n",
              "<p>5 rows × 785 columns</p>\n",
              "</div>\n",
              "      <button class=\"colab-df-convert\" onclick=\"convertToInteractive('df-755b216f-b290-421a-a879-49dd9d93eb0d')\"\n",
              "              title=\"Convert this dataframe to an interactive table.\"\n",
              "              style=\"display:none;\">\n",
              "        \n",
              "  <svg xmlns=\"http://www.w3.org/2000/svg\" height=\"24px\"viewBox=\"0 0 24 24\"\n",
              "       width=\"24px\">\n",
              "    <path d=\"M0 0h24v24H0V0z\" fill=\"none\"/>\n",
              "    <path d=\"M18.56 5.44l.94 2.06.94-2.06 2.06-.94-2.06-.94-.94-2.06-.94 2.06-2.06.94zm-11 1L8.5 8.5l.94-2.06 2.06-.94-2.06-.94L8.5 2.5l-.94 2.06-2.06.94zm10 10l.94 2.06.94-2.06 2.06-.94-2.06-.94-.94-2.06-.94 2.06-2.06.94z\"/><path d=\"M17.41 7.96l-1.37-1.37c-.4-.4-.92-.59-1.43-.59-.52 0-1.04.2-1.43.59L10.3 9.45l-7.72 7.72c-.78.78-.78 2.05 0 2.83L4 21.41c.39.39.9.59 1.41.59.51 0 1.02-.2 1.41-.59l7.78-7.78 2.81-2.81c.8-.78.8-2.07 0-2.86zM5.41 20L4 18.59l7.72-7.72 1.47 1.35L5.41 20z\"/>\n",
              "  </svg>\n",
              "      </button>\n",
              "      \n",
              "  <style>\n",
              "    .colab-df-container {\n",
              "      display:flex;\n",
              "      flex-wrap:wrap;\n",
              "      gap: 12px;\n",
              "    }\n",
              "\n",
              "    .colab-df-convert {\n",
              "      background-color: #E8F0FE;\n",
              "      border: none;\n",
              "      border-radius: 50%;\n",
              "      cursor: pointer;\n",
              "      display: none;\n",
              "      fill: #1967D2;\n",
              "      height: 32px;\n",
              "      padding: 0 0 0 0;\n",
              "      width: 32px;\n",
              "    }\n",
              "\n",
              "    .colab-df-convert:hover {\n",
              "      background-color: #E2EBFA;\n",
              "      box-shadow: 0px 1px 2px rgba(60, 64, 67, 0.3), 0px 1px 3px 1px rgba(60, 64, 67, 0.15);\n",
              "      fill: #174EA6;\n",
              "    }\n",
              "\n",
              "    [theme=dark] .colab-df-convert {\n",
              "      background-color: #3B4455;\n",
              "      fill: #D2E3FC;\n",
              "    }\n",
              "\n",
              "    [theme=dark] .colab-df-convert:hover {\n",
              "      background-color: #434B5C;\n",
              "      box-shadow: 0px 1px 3px 1px rgba(0, 0, 0, 0.15);\n",
              "      filter: drop-shadow(0px 1px 2px rgba(0, 0, 0, 0.3));\n",
              "      fill: #FFFFFF;\n",
              "    }\n",
              "  </style>\n",
              "\n",
              "      <script>\n",
              "        const buttonEl =\n",
              "          document.querySelector('#df-755b216f-b290-421a-a879-49dd9d93eb0d button.colab-df-convert');\n",
              "        buttonEl.style.display =\n",
              "          google.colab.kernel.accessAllowed ? 'block' : 'none';\n",
              "\n",
              "        async function convertToInteractive(key) {\n",
              "          const element = document.querySelector('#df-755b216f-b290-421a-a879-49dd9d93eb0d');\n",
              "          const dataTable =\n",
              "            await google.colab.kernel.invokeFunction('convertToInteractive',\n",
              "                                                     [key], {});\n",
              "          if (!dataTable) return;\n",
              "\n",
              "          const docLinkHtml = 'Like what you see? Visit the ' +\n",
              "            '<a target=\"_blank\" href=https://colab.research.google.com/notebooks/data_table.ipynb>data table notebook</a>'\n",
              "            + ' to learn more about interactive tables.';\n",
              "          element.innerHTML = '';\n",
              "          dataTable['output_type'] = 'display_data';\n",
              "          await google.colab.output.renderOutput(dataTable, element);\n",
              "          const docLink = document.createElement('div');\n",
              "          docLink.innerHTML = docLinkHtml;\n",
              "          element.appendChild(docLink);\n",
              "        }\n",
              "      </script>\n",
              "    </div>\n",
              "  </div>\n",
              "  "
            ]
          },
          "metadata": {},
          "execution_count": 5
        }
      ]
    },
    {
      "cell_type": "code",
      "source": [
        "label=train['label']\n",
        "label = label.to_numpy()\n",
        "\n",
        "train=train.drop('label',axis=1)\n",
        "print(train.head())\n",
        "train=train.to_numpy()\n"
      ],
      "metadata": {
        "colab": {
          "base_uri": "https://localhost:8080/"
        },
        "id": "3ai2gVZpdCaA",
        "outputId": "2cc3018c-3c51-45dc-e3fb-e54356c34f5a"
      },
      "execution_count": null,
      "outputs": [
        {
          "output_type": "stream",
          "name": "stdout",
          "text": [
            "   pixel0  pixel1  pixel2  pixel3  pixel4  pixel5  pixel6  pixel7  pixel8  \\\n",
            "0       0       0       0       0       0       0       0       0       0   \n",
            "1       0       0       0       0       0       0       0       0       0   \n",
            "2       0       0       0       0       0       0       0       0       0   \n",
            "3       0       0       0       0       0       0       0       0       0   \n",
            "4       0       0       0       0       0       0       0       0       0   \n",
            "\n",
            "   pixel9  ...  pixel774  pixel775  pixel776  pixel777  pixel778  pixel779  \\\n",
            "0       0  ...         0         0         0         0         0         0   \n",
            "1       0  ...         0         0         0         0         0         0   \n",
            "2       0  ...         0         0         0         0         0         0   \n",
            "3       0  ...         0         0         0         0         0         0   \n",
            "4       0  ...         0         0         0         0         0         0   \n",
            "\n",
            "   pixel780  pixel781  pixel782  pixel783  \n",
            "0         0         0         0         0  \n",
            "1         0         0         0         0  \n",
            "2         0         0         0         0  \n",
            "3         0         0         0         0  \n",
            "4         0         0         0         0  \n",
            "\n",
            "[5 rows x 784 columns]\n"
          ]
        }
      ]
    },
    {
      "cell_type": "code",
      "source": [
        "from sklearn.model_selection import train_test_split"
      ],
      "metadata": {
        "id": "qr3GuNNkfenj"
      },
      "execution_count": null,
      "outputs": []
    },
    {
      "cell_type": "code",
      "source": [
        "X_train,X_test,y_train,y_test=train_test_split(train,label,random_state=42,stratify=label)"
      ],
      "metadata": {
        "id": "fsKjGm0rfmu9"
      },
      "execution_count": null,
      "outputs": []
    },
    {
      "cell_type": "code",
      "source": [
        "from sklearn.preprocessing import MinMaxScaler\n",
        "min_max=MinMaxScaler()\n",
        "X_train=min_max.fit_transform(X_train)\n",
        "X_test=min_max.transform(X_test)"
      ],
      "metadata": {
        "id": "w2PL6GobtjHS"
      },
      "execution_count": null,
      "outputs": []
    },
    {
      "cell_type": "code",
      "source": [
        "# plt.imshow(X_train[0].reshape(28,28), cmap='gray')\n",
        "X_train = np.array([X_train[i].reshape(28,28) for i in range(len(X_train))])\n",
        "X_test = np.array([X_test[i].reshape(28,28) for i in range(len(X_test))])\n",
        "X_train=X_train/255.0\n",
        "\n",
        "X_test=X_test/255.0\n",
        "\n",
        "plt.xkcd()\n",
        "\n",
        "\n",
        "for i in range(10):\n",
        "  plt.subplot(2,5,i+1)\n",
        "  plt.imshow(X_train[i].reshape((28,28)), cmap='gray')\n",
        "  plt.title(y_train[i])\n",
        "plt.tight_layout()\n",
        "plt.show()\n"
      ],
      "metadata": {
        "colab": {
          "base_uri": "https://localhost:8080/",
          "height": 244
        },
        "id": "j5v0aXwwdRiE",
        "outputId": "534dfb95-3019-4650-87e5-d05892a7a130"
      },
      "execution_count": null,
      "outputs": [
        {
          "output_type": "display_data",
          "data": {
            "text/plain": [
              "<Figure size 432x288 with 10 Axes>"
            ],
            "image/png": "[encoded data removed]"
          },
          "metadata": {}
        }
      ]
    },
    {
      "cell_type": "code",
      "source": [
        "n_features =X_train.shape[1]\n",
        "n_classes=len(set(y_train))"
      ],
      "metadata": {
        "id": "iWLcRp6ptW7G"
      },
      "execution_count": null,
      "outputs": []
    },
    {
      "cell_type": "code",
      "source": [
        "import tensorflow as tf\n",
        "from tensorflow.keras import models, layers, activations\n",
        "\n",
        "from tensorflow.keras.models import Model\n",
        "\n",
        "inpx = Input(shape=(n_features,n_features,1,))\n",
        "network_1 = Conv2D(32, kernel_size=(3, 3), strides=(1,1), activation='relu', padding='same')(inpx)\n",
        "network_2 = layers.AveragePooling2D()(network_1)\n",
        "network_3 = layers.BatchNormalization()(network_2)\n",
        "\n",
        "network_4 = Conv2D(64, kernel_size=(3, 3), strides=(1,1), activation='relu', padding='same')(network_3)\n",
        "network_5 = layers.AveragePooling2D()(network_4)\n",
        "network_6 = layers.BatchNormalization()(network_5)\n",
        "\n",
        "network_7 = Dropout(0.35)(network_6)\n",
        "\n",
        "\n",
        "network_8 = Conv2D(128, kernel_size=(3, 3), strides=(1,1), activation='relu', padding='same')(network_7)\n",
        "network_9 = layers.AveragePooling2D()(network_8)\n",
        "\n",
        "network_10 = layers.BatchNormalization()(network_9)\n",
        "\n",
        "network_11= Dropout(0.35)(network_10)\n",
        "\n",
        "\n",
        "network_8 = Conv2D(128, kernel_size=(3, 3), strides=(1,1), activation='relu', padding='same')(network_7)\n",
        "network_9 = layers.AveragePooling2D()(network_8)\n",
        "\n",
        "network_10 = layers.BatchNormalization()(network_9)\n",
        "\n",
        "network_11= Dropout(0.35)(network_10)\n",
        "\n",
        "\n",
        "network_12 = Flatten()(network_11)\n",
        "\n",
        "network_13 = Dense(256, activation='relu')(network_12)\n",
        "\n",
        "\n",
        "network_14 = Dense(128, activation='relu')(network_13)\n",
        "\n",
        "network_15 = Dense(64, activation='relu')(network_14)\n",
        "\n",
        "network_16= Dense(10, activation='softmax')(network_15)\n",
        "\n",
        "model = Model(inpx, network_16)"
      ],
      "metadata": {
        "id": "KR9Og-3ljJ5D"
      },
      "execution_count": null,
      "outputs": []
    },
    {
      "cell_type": "code",
      "source": [
        "opt = tf.keras.optimizers.Adam(learning_rate=0.001)\n",
        "loss = tf.keras.losses.SparseCategoricalCrossentropy()\n",
        "model.compile(optimizer=opt, loss=loss, metrics=['sparse_categorical_accuracy'])\n",
        "history=model.fit(X_train, y_train, validation_data=(X_test, y_test) ,epochs=50, batch_size=128)"
      ],
      "metadata": {
        "id": "cKbJ-6yEi1AI",
        "colab": {
          "base_uri": "https://localhost:8080/"
        },
        "outputId": "f43e60d0-32aa-4ed3-ded9-403dba9dbd7f"
      },
      "execution_count": null,
      "outputs": [
        {
          "output_type": "stream",
          "name": "stdout",
          "text": [
            "Epoch 1/50\n",
            "247/247 [==============================] - 3s 9ms/step - loss: 0.2877 - sparse_categorical_accuracy: 0.9082 - val_loss: 2.5132 - val_sparse_categorical_accuracy: 0.0968\n",
            "Epoch 2/50\n",
            "247/247 [==============================] - 2s 7ms/step - loss: 0.0925 - sparse_categorical_accuracy: 0.9705 - val_loss: 5.5037 - val_sparse_categorical_accuracy: 0.0968\n",
            "Epoch 3/50\n",
            "247/247 [==============================] - 2s 8ms/step - loss: 0.0672 - sparse_categorical_accuracy: 0.9779 - val_loss: 0.1359 - val_sparse_categorical_accuracy: 0.9561\n",
            "Epoch 4/50\n",
            "247/247 [==============================] - 2s 9ms/step - loss: 0.0625 - sparse_categorical_accuracy: 0.9811 - val_loss: 0.0704 - val_sparse_categorical_accuracy: 0.9783\n",
            "Epoch 5/50\n",
            "247/247 [==============================] - 2s 8ms/step - loss: 0.0495 - sparse_categorical_accuracy: 0.9837 - val_loss: 0.0536 - val_sparse_categorical_accuracy: 0.9818\n",
            "Epoch 6/50\n",
            "247/247 [==============================] - 2s 8ms/step - loss: 0.0454 - sparse_categorical_accuracy: 0.9857 - val_loss: 0.0879 - val_sparse_categorical_accuracy: 0.9753\n",
            "Epoch 7/50\n",
            "247/247 [==============================] - 2s 8ms/step - loss: 0.0446 - sparse_categorical_accuracy: 0.9855 - val_loss: 0.0431 - val_sparse_categorical_accuracy: 0.9868\n",
            "Epoch 8/50\n",
            "247/247 [==============================] - 2s 8ms/step - loss: 0.0361 - sparse_categorical_accuracy: 0.9875 - val_loss: 0.0528 - val_sparse_categorical_accuracy: 0.9838\n",
            "Epoch 9/50\n",
            "247/247 [==============================] - 2s 9ms/step - loss: 0.0380 - sparse_categorical_accuracy: 0.9881 - val_loss: 0.0910 - val_sparse_categorical_accuracy: 0.9712\n",
            "Epoch 10/50\n",
            "247/247 [==============================] - 3s 12ms/step - loss: 0.0342 - sparse_categorical_accuracy: 0.9893 - val_loss: 0.0490 - val_sparse_categorical_accuracy: 0.9855\n",
            "Epoch 11/50\n",
            "247/247 [==============================] - 3s 10ms/step - loss: 0.0294 - sparse_categorical_accuracy: 0.9908 - val_loss: 0.0738 - val_sparse_categorical_accuracy: 0.9779\n",
            "Epoch 12/50\n",
            "247/247 [==============================] - 2s 7ms/step - loss: 0.0257 - sparse_categorical_accuracy: 0.9920 - val_loss: 0.0406 - val_sparse_categorical_accuracy: 0.9892\n",
            "Epoch 13/50\n",
            "247/247 [==============================] - 2s 7ms/step - loss: 0.0291 - sparse_categorical_accuracy: 0.9910 - val_loss: 0.0381 - val_sparse_categorical_accuracy: 0.9893\n",
            "Epoch 14/50\n",
            "247/247 [==============================] - 2s 8ms/step - loss: 0.0234 - sparse_categorical_accuracy: 0.9927 - val_loss: 0.0549 - val_sparse_categorical_accuracy: 0.9836\n",
            "Epoch 15/50\n",
            "247/247 [==============================] - 2s 7ms/step - loss: 0.0226 - sparse_categorical_accuracy: 0.9930 - val_loss: 0.0485 - val_sparse_categorical_accuracy: 0.9879\n",
            "Epoch 16/50\n",
            "247/247 [==============================] - 2s 7ms/step - loss: 0.0248 - sparse_categorical_accuracy: 0.9921 - val_loss: 0.0434 - val_sparse_categorical_accuracy: 0.9887\n",
            "Epoch 17/50\n",
            "247/247 [==============================] - 2s 7ms/step - loss: 0.0218 - sparse_categorical_accuracy: 0.9931 - val_loss: 0.0398 - val_sparse_categorical_accuracy: 0.9888\n",
            "Epoch 18/50\n",
            "247/247 [==============================] - 2s 8ms/step - loss: 0.0213 - sparse_categorical_accuracy: 0.9930 - val_loss: 0.0435 - val_sparse_categorical_accuracy: 0.9900\n",
            "Epoch 19/50\n",
            "247/247 [==============================] - 2s 7ms/step - loss: 0.0218 - sparse_categorical_accuracy: 0.9928 - val_loss: 0.0451 - val_sparse_categorical_accuracy: 0.9891\n",
            "Epoch 20/50\n",
            "247/247 [==============================] - 2s 7ms/step - loss: 0.0234 - sparse_categorical_accuracy: 0.9925 - val_loss: 0.0480 - val_sparse_categorical_accuracy: 0.9882\n",
            "Epoch 21/50\n",
            "247/247 [==============================] - 2s 7ms/step - loss: 0.0187 - sparse_categorical_accuracy: 0.9933 - val_loss: 0.0670 - val_sparse_categorical_accuracy: 0.9832\n",
            "Epoch 22/50\n",
            "247/247 [==============================] - 2s 7ms/step - loss: 0.0313 - sparse_categorical_accuracy: 0.9906 - val_loss: 0.0424 - val_sparse_categorical_accuracy: 0.9899\n",
            "Epoch 23/50\n",
            "247/247 [==============================] - 2s 7ms/step - loss: 0.0178 - sparse_categorical_accuracy: 0.9947 - val_loss: 0.0484 - val_sparse_categorical_accuracy: 0.9885\n",
            "Epoch 24/50\n",
            "247/247 [==============================] - 2s 7ms/step - loss: 0.0162 - sparse_categorical_accuracy: 0.9948 - val_loss: 0.0418 - val_sparse_categorical_accuracy: 0.9900\n",
            "Epoch 25/50\n",
            "247/247 [==============================] - 2s 8ms/step - loss: 0.0184 - sparse_categorical_accuracy: 0.9945 - val_loss: 0.0536 - val_sparse_categorical_accuracy: 0.9873\n",
            "Epoch 26/50\n",
            "247/247 [==============================] - 2s 8ms/step - loss: 0.0157 - sparse_categorical_accuracy: 0.9953 - val_loss: 0.0363 - val_sparse_categorical_accuracy: 0.9924\n",
            "Epoch 27/50\n",
            "247/247 [==============================] - 2s 7ms/step - loss: 0.0143 - sparse_categorical_accuracy: 0.9953 - val_loss: 0.0595 - val_sparse_categorical_accuracy: 0.9851\n",
            "Epoch 28/50\n",
            "247/247 [==============================] - 2s 8ms/step - loss: 0.0152 - sparse_categorical_accuracy: 0.9950 - val_loss: 0.0755 - val_sparse_categorical_accuracy: 0.9813\n",
            "Epoch 29/50\n",
            "247/247 [==============================] - 2s 8ms/step - loss: 0.0164 - sparse_categorical_accuracy: 0.9947 - val_loss: 0.0429 - val_sparse_categorical_accuracy: 0.9903\n",
            "Epoch 30/50\n",
            "247/247 [==============================] - 2s 7ms/step - loss: 0.0132 - sparse_categorical_accuracy: 0.9954 - val_loss: 0.0383 - val_sparse_categorical_accuracy: 0.9910\n",
            "Epoch 31/50\n",
            "247/247 [==============================] - 2s 8ms/step - loss: 0.0151 - sparse_categorical_accuracy: 0.9950 - val_loss: 0.0454 - val_sparse_categorical_accuracy: 0.9889\n",
            "Epoch 32/50\n",
            "247/247 [==============================] - 2s 9ms/step - loss: 0.0149 - sparse_categorical_accuracy: 0.9953 - val_loss: 0.0420 - val_sparse_categorical_accuracy: 0.9910\n",
            "Epoch 33/50\n",
            "247/247 [==============================] - 2s 8ms/step - loss: 0.0122 - sparse_categorical_accuracy: 0.9962 - val_loss: 0.0440 - val_sparse_categorical_accuracy: 0.9898\n",
            "Epoch 34/50\n",
            "247/247 [==============================] - 2s 7ms/step - loss: 0.0145 - sparse_categorical_accuracy: 0.9955 - val_loss: 0.0371 - val_sparse_categorical_accuracy: 0.9914\n",
            "Epoch 35/50\n",
            "247/247 [==============================] - 2s 7ms/step - loss: 0.0133 - sparse_categorical_accuracy: 0.9960 - val_loss: 0.0514 - val_sparse_categorical_accuracy: 0.9881\n",
            "Epoch 36/50\n",
            "247/247 [==============================] - 2s 7ms/step - loss: 0.0126 - sparse_categorical_accuracy: 0.9965 - val_loss: 0.0460 - val_sparse_categorical_accuracy: 0.9894\n",
            "Epoch 37/50\n",
            "247/247 [==============================] - 2s 7ms/step - loss: 0.0138 - sparse_categorical_accuracy: 0.9955 - val_loss: 0.0450 - val_sparse_categorical_accuracy: 0.9896\n",
            "Epoch 38/50\n",
            "247/247 [==============================] - 2s 8ms/step - loss: 0.0133 - sparse_categorical_accuracy: 0.9957 - val_loss: 0.0493 - val_sparse_categorical_accuracy: 0.9896\n",
            "Epoch 39/50\n",
            "247/247 [==============================] - 2s 8ms/step - loss: 0.0107 - sparse_categorical_accuracy: 0.9964 - val_loss: 0.0441 - val_sparse_categorical_accuracy: 0.9910\n",
            "Epoch 40/50\n",
            "247/247 [==============================] - 2s 8ms/step - loss: 0.0126 - sparse_categorical_accuracy: 0.9961 - val_loss: 0.0467 - val_sparse_categorical_accuracy: 0.9900\n",
            "Epoch 41/50\n",
            "247/247 [==============================] - 2s 7ms/step - loss: 0.0116 - sparse_categorical_accuracy: 0.9964 - val_loss: 0.0416 - val_sparse_categorical_accuracy: 0.9901\n",
            "Epoch 42/50\n",
            "247/247 [==============================] - 2s 10ms/step - loss: 0.0100 - sparse_categorical_accuracy: 0.9967 - val_loss: 0.0455 - val_sparse_categorical_accuracy: 0.9908\n",
            "Epoch 43/50\n",
            "247/247 [==============================] - 2s 9ms/step - loss: 0.0095 - sparse_categorical_accuracy: 0.9974 - val_loss: 0.0413 - val_sparse_categorical_accuracy: 0.9905\n",
            "Epoch 44/50\n",
            "247/247 [==============================] - 2s 8ms/step - loss: 0.0102 - sparse_categorical_accuracy: 0.9965 - val_loss: 0.0365 - val_sparse_categorical_accuracy: 0.9913\n",
            "Epoch 45/50\n",
            "247/247 [==============================] - 2s 7ms/step - loss: 0.0126 - sparse_categorical_accuracy: 0.9959 - val_loss: 0.0326 - val_sparse_categorical_accuracy: 0.9925\n",
            "Epoch 46/50\n",
            "247/247 [==============================] - 2s 7ms/step - loss: 0.0114 - sparse_categorical_accuracy: 0.9966 - val_loss: 0.0361 - val_sparse_categorical_accuracy: 0.9926\n",
            "Epoch 47/50\n",
            "247/247 [==============================] - 2s 7ms/step - loss: 0.0073 - sparse_categorical_accuracy: 0.9974 - val_loss: 0.0407 - val_sparse_categorical_accuracy: 0.9918\n",
            "Epoch 48/50\n",
            "247/247 [==============================] - 2s 8ms/step - loss: 0.0092 - sparse_categorical_accuracy: 0.9970 - val_loss: 0.0451 - val_sparse_categorical_accuracy: 0.9902\n",
            "Epoch 49/50\n",
            "247/247 [==============================] - 2s 8ms/step - loss: 0.0136 - sparse_categorical_accuracy: 0.9958 - val_loss: 0.0451 - val_sparse_categorical_accuracy: 0.9903\n",
            "Epoch 50/50\n",
            "247/247 [==============================] - 2s 8ms/step - loss: 0.0107 - sparse_categorical_accuracy: 0.9966 - val_loss: 0.0711 - val_sparse_categorical_accuracy: 0.9850\n"
          ]
        }
      ]
    },
    {
      "cell_type": "code",
      "source": [
        "\n",
        "plt.plot(history.history['loss'])\n",
        "plt.plot(history.history['val_loss'])\n",
        "plt.legend(['loss', 'val_loss']);"
      ],
      "metadata": {
        "id": "OZeWHZLquh6E",
        "colab": {
          "base_uri": "https://localhost:8080/",
          "height": 271
        },
        "outputId": "ac8adbd4-1265-4186-832b-89b3c9c3b11b"
      },
      "execution_count": null,
      "outputs": [
        {
          "output_type": "display_data",
          "data": {
            "text/plain": [
              "<Figure size 432x288 with 1 Axes>"
            ],
            "image/png": "[encoded data removed]"
          },
          "metadata": {}
        }
      ]
    },
    {
      "cell_type": "code",
      "source": [
        "\n",
        "plt.plot(history.history['sparse_categorical_accuracy'])\n",
        "plt.plot(history.history['val_sparse_categorical_accuracy'])\n",
        "plt.legend(['train_acc', 'val_acc']);"
      ],
      "metadata": {
        "colab": {
          "base_uri": "https://localhost:8080/",
          "height": 271
        },
        "id": "Fohxqfm5WCM2",
        "outputId": "336d04b4-da4b-498a-aad3-310dd93e00be"
      },
      "execution_count": null,
      "outputs": [
        {
          "output_type": "display_data",
          "data": {
            "text/plain": [
              "<Figure size 432x288 with 1 Axes>"
            ],
            "image/png": "[encoded data removed]"
          },
          "metadata": {}
        }
      ]
    },
    {
      "cell_type": "code",
      "source": [
        "y_pred  = model.predict(X_test)\n",
        "predicted_categories = np.argmax(y_pred, axis = 1)"
      ],
      "metadata": {
        "id": "AsOMOdhfNS6S"
      },
      "execution_count": null,
      "outputs": []
    },
    {
      "cell_type": "code",
      "source": [
        "\n",
        "predictions = pd.Series(predicted_categories, name='Label')\n",
        "image_id = pd.Series(range(1,10501), name = 'ImageId')\n",
        "predictions = pd.concat([image_id, predictions], axis = 1)\n",
        "predictions.to_csv('submission.csv', index=False)"
      ],
      "metadata": {
        "colab": {
          "base_uri": "https://localhost:8080/"
        },
        "id": "FOZwkYVXWR09",
        "outputId": "c1cf928e-4f7f-40a3-bf99-9a67245ccdd5"
      },
      "execution_count": null,
      "outputs": [
        {
          "output_type": "stream",
          "name": "stdout",
          "text": [
            "329/329 [==============================] - 1s 2ms/step\n"
          ]
        }
      ]
    },
    {
      "cell_type": "code",
      "source": [],
      "metadata": {
        "id": "_U81zcVYlboi"
      },
      "execution_count": null,
      "outputs": []
    }
  ]
}